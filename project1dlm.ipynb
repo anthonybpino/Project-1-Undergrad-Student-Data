{
 "cells": [
  {
   "attachments": {},
   "cell_type": "markdown",
   "metadata": {},
   "source": [
    "# Project 1\n",
    "\n",
    "Create code to answer each of the following questions.\n",
    "\n",
    "> Project Description/Outline: This project will look at the data on the average cost of college in the US by state, type of institution, and year (3-5 year span). Provide a deeper understanding on financials of undergraduate education across the US. Research Questions to Answer:\n",
    "\n",
    "*Top 5 best schools for funding (most expensive) /year\n",
    "*Top 5 best schools for funding (most expensive) by state /year\n",
    "*Top 5 lowest schools for funding (least expensive) /year\n",
    "*Top 5 lowest schools for funding (least expensive) by state/year\n",
    "*Looking for schools by state within specific ranges (small, med, large)\n",
    "*Looking for type of school (private / public-in-state/ public-out-state\n",
    "*Difference between 2 & 4 year\n",
    "*What schools offers certain fundings (scholarships, state or federal fundings)\n",
    "*Did COVID-19 has an effect on the fees\n",
    "*See the year to year increase"
   ]
  },
  {
   "cell_type": "code",
   "execution_count": 2,
   "metadata": {},
   "outputs": [
    {
     "ename": "ModuleNotFoundError",
     "evalue": "No module named 'seaborn'",
     "output_type": "error",
     "traceback": [
      "\u001b[1;31m---------------------------------------------------------------------------\u001b[0m",
      "\u001b[1;31mModuleNotFoundError\u001b[0m                       Traceback (most recent call last)",
      "Cell \u001b[1;32mIn[2], line 6\u001b[0m\n\u001b[0;32m      4\u001b[0m \u001b[39mimport\u001b[39;00m \u001b[39mmatplotlib\u001b[39;00m\u001b[39m.\u001b[39;00m\u001b[39mpyplot\u001b[39;00m \u001b[39mas\u001b[39;00m \u001b[39mplt\u001b[39;00m\n\u001b[0;32m      5\u001b[0m \u001b[39mimport\u001b[39;00m \u001b[39mmatplotlib\u001b[39;00m \u001b[39mas\u001b[39;00m \u001b[39mmpl\u001b[39;00m\n\u001b[1;32m----> 6\u001b[0m \u001b[39mimport\u001b[39;00m \u001b[39mseaborn\u001b[39;00m \u001b[39mas\u001b[39;00m \u001b[39msns\u001b[39;00m\n\u001b[0;32m      7\u001b[0m \u001b[39mimport\u001b[39;00m \u001b[39mplotly\u001b[39;00m\u001b[39m.\u001b[39;00m\u001b[39mexpress\u001b[39;00m \u001b[39mas\u001b[39;00m \u001b[39mpx\u001b[39;00m\n\u001b[0;32m      8\u001b[0m \u001b[39mimport\u001b[39;00m \u001b[39mplotly\u001b[39;00m\u001b[39m.\u001b[39;00m\u001b[39mfigure_factory\u001b[39;00m \u001b[39mas\u001b[39;00m \u001b[39mff\u001b[39;00m\n",
      "\u001b[1;31mModuleNotFoundError\u001b[0m: No module named 'seaborn'"
     ]
    }
   ],
   "source": [
    "#Importing Dependencies:\n",
    "import numpy as np\n",
    "import pandas as pd\n",
    "import matplotlib.pyplot as plt\n",
    "import matplotlib as mpl\n",
    "import seaborn as sns\n",
    "import plotly.express as px\n",
    "import plotly.figure_factory as ff\n",
    "import plotly.graph_objects as go\n",
    "\n",
    "#Styling :\n",
    "%matplotlib inline\n",
    "sns.set_theme(style=\"dark\")\n",
    "plt.rcParams['figure.figsize'] = [30, 7] \n",
    "mpl.rcParams['axes.unicode_minus'] = False\n",
    "pd.set_option('display.max_columns',None)\n",
    "plt.style.use('seaborn-dark-palette')\n",
    "plt.style.use('dark_background')\n",
    "# Import the API key\n",
    "#from config import geoapify_key"
   ]
  },
  {
   "cell_type": "code",
   "execution_count": null,
   "metadata": {},
   "outputs": [],
   "source": [
    "# comment out"
   ]
  },
  {
   "cell_type": "code",
   "execution_count": null,
   "metadata": {},
   "outputs": [],
   "source": [
    "#Reading data :\n",
    "#edu_df = pd.read_csv(\"4-1-2023---430/Data_4-1-2023---430.csv\")\n",
    "#edu_df\n",
    "edu_df=pd.read_csv(\"4-1-2023---430/Data_4-1-2023---430.csv\")\n",
    "edu_df"
   ]
  },
  {
   "cell_type": "code",
   "execution_count": null,
   "metadata": {},
   "outputs": [],
   "source": [
    "edu_clean_df = edu_df.drop(columns=['Institution name', 'Unnamed'])\n",
    "edu_clean_df.head(10)\n"
   ]
  },
  {
   "cell_type": "code",
   "execution_count": null,
   "metadata": {},
   "outputs": [],
   "source": [
    "edu_clean_df.dtypes"
   ]
  },
  {
   "cell_type": "code",
   "execution_count": null,
   "metadata": {},
   "outputs": [],
   "source": [
    "edu_clean_df = edu_clean_df.rename(columns={\"Average net price-students awarded grant or scholarship aid  2020-21\" : \"Avg FAid 2020\",\n",
    "                                     \"Average net price-students awarded grant or scholarship aid  2019-20\" : \"Avg FAid 2019\",\n",
    "                                     \"Average net price-students awarded grant or scholarship aid  2018-19\" : \"Avg FAid 2018\",\n",
    "                                     \"Total price for out-of-state students living on campus 2021-22\" : \"Cost Out-State On Campus 2021\",\n",
    "                                     \"Total price for in-state students living on campus 2021-22\" : \"Cost In-State On Campus 2021\",\n",
    "                                     \"Total price for in-state students living off campus (not with family)  2021-22\" : \"Cost In-State Off Campus Not With Fam 2021\",\n",
    "                                     \"Total price for out-of-state students living off campus (not with family)  2021-22\" : \"Cost Out-State Off Campus Not With Fam 2021\",\n",
    "                                     \"Total price for in-state students living off campus (with family)  2021-22\" : \"Cost In-State Off Campus With Fam 2021\",\n",
    "                                     \"Total price for out-of-state students living off campus (with family)  2021-22\" : \"Cost Out-State Off Campus With Fam 2021\",\n",
    "                                     \"Total price for in-state students living on campus 2020-21\" : \"Cost In-State On Campus 2020\",\n",
    "                                     \"Total price for out-of-state students living on campus 2020-21\" : \"Cost Out-State On Campus 2020\",\n",
    "                                     \"Total price for in-state students living off campus (not with family)  2020-21\" : \"Cost In-State Off Campus Not With Fam 2020\",\n",
    "                                     \"Total price for out-of-state students living off campus (not with family)  2020-21\" : \"Cost Out-State Off Campus Not With Fam 2020\",\n",
    "                                     \"Total price for in-state students living off campus (with family)  2020-21\" : \"Cost In-State Off Campus With Fam 2020\",\n",
    "                                     \"Total price for out-of-state students living off campus (with family)  2020-21\" : \"Cost Out-State Off Campus With Fam 2020\",\n",
    "                                     \"Average net price-students awarded grant or scholarship aid  2017-18\" : \"Avg Net Student Aid or Scholarship 2017\",\n",
    "                                     \"Average net price-students awarded grant or scholarship aid 2016-17\" : \"Avg Net Student Aid or Scholarship 2016\",\n",
    "                                     \"Total price for in-state students living on campus 2019-20\" : \"Cost In-State On Campus 2019\",\n",
    "                                     \"Total price for out-of-state students living on campus 2019-20\" : \"Cost Out-State On Campus 2019\",\n",
    "                                     \"Total price for in-state students living off campus (not with family) 2019-20\" : \"Cost In-State Off Campus Not With Fam 2019\",\n",
    "                                     \"Total price for out-of-state students living off campus (not with family) 2019-20\" : \"Cost Out-State Off Campus Not With Fam 2019\",\n",
    "                                     \"Total price for in-state students living off campus (with family) 2019-20\" : \"Cost In-State Off Campus With Fam 2019\",\n",
    "                                     \"Total price for out-of-state students living off campus (with family) 2019-20\" : \"Cost Out-State Off Campus With Fam 2019\",\n",
    "                                     \"Average net price-students awarded grant or scholarship aid 2015-16\" : \"Avg Net Student Aid or Scholarship 2015\",\n",
    "                                     \"Total price for in-state students living on campus 2018-19\" : \"Cost In-State On Campus 2018\",\n",
    "                                     \"Total price for out-of-state students living on campus 2018-19\" : \"Cost Out-State On Campus 2018\",\n",
    "                                     \"Total price for in-state students living off campus (not with family) 2018-19\" : \"Cost In-State Off Campus Not With Fam 2018\",\n",
    "                                     \"Total price for out-of-state students living off campus (not with family) 2018-19\" : \"Cost Out-State Off Campus Not With Fam 2018\",\n",
    "                                     \"Total price for in-state students living off campus (with family) 2018-19\" : \"Cost In-State Off Campus With Fam 2018\",\n",
    "                                     \"Total price for out-of-state students living off campus (with family) 2018-19\" : \"Cost Out-State Off Campus With Fam 2018\",\n",
    "                                     \"Total price for in-state students living on campus 2017-18\" : \"Cost In-State On Campus 2017\",\n",
    "                                     \"Total price for out-of-state students living on campus 2017-18\" : \"Cost Out-State On Campus 2017\",\n",
    "                                     \"Total price for in-state students living off campus (not with family) 2017-18\" : \"Cost In-State Off Campus Not With Fam 2017\",\n",
    "                                     \"Total price for out-of-state students living off campus (not with family) 2017-18\" : \"Cost Out-State Off Campus Not With Fam 2017\",\n",
    "                                     \"Total price for in-state students living off campus (with family) 2017-18\" : \"Cost In-State Off Campus With Fam 2017\",\n",
    "                                     \"Total price for out-of-state students living off campus (with family) 2017-18\" : \"Cost Out-State Off Campus With Fam 2017\",\n",
    "                                     \"Total price for in-state students living on campus 2016-17\" : \"Cost In-State On Campus 2016\",\n",
    "                                     \"Total price for out-of-state students living on campus 2016-17\" : \"Cost Out-State On Campus 2016\",\n",
    "                                     \"Total price for in-state students living off campus (not with family) 2016-17\" : \"Cost In-State Off Campus Not With Fam 2016\",\n",
    "                                     \"Total price for out-of-state students living off campus (not with family) 2016-17\" : \"Cost Out-State Off Campus Not With Fam 2016\",\n",
    "                                     \"Total price for in-state students living off campus (with family) 2016-17\" : \"Cost In-State Off Campus With Fam 2016\",\n",
    "                                     \"Total price for out-of-state students living off campus (with family) 2016-17\" : \"Cost Out-State Off Campus With Fam 2016\",\n",
    "                                     \"Books and supplies 2021-22\" : \"Books/Supplies 2021\",\n",
    "                                     \"Books and supplies 2020-21\" : \"Books/Supplies 2020\",\n",
    "                                     \"Books and supplies 2019-20\" : \"Books/Supplies 2019\",\n",
    "                                     \"Books and supplies 2018-19\" : \"Books/Supplies 2018\",\n",
    "                                     \"Books and supplies 2017-18\" : \"Books/Supplies 2017\",\n",
    "                                     \"Books and supplies 2016-17\" : \"Books/Supplies 2016\"}\n",
    "                                     )\n",
    "edu_clean_df.columns\n"
   ]
  },
  {
   "cell_type": "code",
   "execution_count": null,
   "metadata": {},
   "outputs": [],
   "source": [
    "edu_clean_df = edu_clean_df.fillna(0)\n",
    "edu_clean_df.head(20)\n"
   ]
  },
  {
   "cell_type": "code",
   "execution_count": null,
   "metadata": {},
   "outputs": [],
   "source": [
    "school_types = edu_clean_df.set_index([\"Institution\"])[\"State abbreviation\"]\n",
    "school_types"
   ]
  },
  {
   "cell_type": "code",
   "execution_count": null,
   "metadata": {},
   "outputs": [],
   "source": [
    "edu_clean_df[\"Tuition 2021\"] = \"\"\n",
    "edu_clean_df[\"Tuition 2021\"] = pd.to_numeric(edu_clean_df[\"Tuition 2021\"], downcast=\"float\")\n",
    "edu_clean_df[\"Tuition 2020\"] = \"\"\n",
    "edu_clean_df[\"Tuition 2020\"] = pd.to_numeric(edu_clean_df[\"Tuition 2020\"], downcast=\"float\")\n",
    "edu_clean_df[\"Tuition 2019\"] = \"\"\n",
    "edu_clean_df[\"Tuition 2019\"] = pd.to_numeric(edu_clean_df[\"Tuition 2019\"], downcast=\"float\")\n",
    "edu_clean_df[\"Tuition 2018\"] = \"\"\n",
    "edu_clean_df[\"Tuition 2018\"] = pd.to_numeric(edu_clean_df[\"Tuition 2018\"], downcast=\"float\")\n",
    "edu_clean_df[\"Tuition 2017\"] = \"\"\n",
    "edu_clean_df[\"Tuition 2017\"] = pd.to_numeric(edu_clean_df[\"Tuition 2017\"], downcast=\"float\")\n",
    "edu_clean_df[\"Tuition 2016\"] = \"\"\n",
    "edu_clean_df[\"Tuition 2016\"] = pd.to_numeric(edu_clean_df[\"Tuition 2016\"], downcast=\"float\")\n",
    "edu_clean_df.dtypes"
   ]
  },
  {
   "cell_type": "code",
   "execution_count": null,
   "metadata": {},
   "outputs": [],
   "source": [
    "\n",
    "\n",
    "tuition_data = edu_clean_df.groupby(\"Institution\")\n",
    "edu_clean_df['Tuition 2021'] = edu_clean_df['Cost Out-State On Campus 2021'] + edu_clean_df['Cost In-State On Campus 2021'] + edu_clean_df['Cost In-State Off Campus With Fam 2021'] + edu_clean_df['Cost Out-State Off Campus With Fam 2021'] + edu_clean_df['Cost In-State Off Campus Not With Fam 2021'] + edu_clean_df['Cost Out-State Off Campus Not With Fam 2021']/6\n",
    "edu_clean_df['Tuition 2020'] = edu_clean_df['Cost Out-State On Campus 2020'] + edu_clean_df['Cost In-State On Campus 2020'] + edu_clean_df['Cost In-State Off Campus With Fam 2020'] + edu_clean_df['Cost Out-State Off Campus With Fam 2020'] + edu_clean_df['Cost In-State Off Campus Not With Fam 2020'] + edu_clean_df['Cost Out-State Off Campus Not With Fam 2020']/6\n",
    "edu_clean_df['Tuition 2019'] = edu_clean_df['Cost Out-State On Campus 2019'] + edu_clean_df['Cost In-State On Campus 2019'] + edu_clean_df['Cost In-State Off Campus With Fam 2019'] + edu_clean_df['Cost Out-State Off Campus With Fam 2019'] + edu_clean_df['Cost In-State Off Campus Not With Fam 2019'] + edu_clean_df['Cost Out-State Off Campus Not With Fam 2019']/6\n",
    "edu_clean_df['Tuition 2018'] = edu_clean_df['Cost Out-State On Campus 2018'] + edu_clean_df['Cost In-State On Campus 2018'] + edu_clean_df['Cost In-State Off Campus With Fam 2018'] + edu_clean_df['Cost Out-State Off Campus With Fam 2018'] + edu_clean_df['Cost In-State Off Campus Not With Fam 2018'] + edu_clean_df['Cost Out-State Off Campus Not With Fam 2018']/6\n",
    "edu_clean_df['Tuition 2017'] = edu_clean_df['Cost Out-State On Campus 2017'] + edu_clean_df['Cost In-State On Campus 2017'] + edu_clean_df['Cost In-State Off Campus With Fam 2017'] + edu_clean_df['Cost Out-State Off Campus With Fam 2017'] + edu_clean_df['Cost In-State Off Campus Not With Fam 2017'] + edu_clean_df['Cost Out-State Off Campus Not With Fam 2017']/6\n",
    "edu_clean_df['Tuition 2016'] = edu_clean_df['Cost Out-State On Campus 2016'] + edu_clean_df['Cost In-State On Campus 2016'] + edu_clean_df['Cost In-State Off Campus With Fam 2016'] + edu_clean_df['Cost Out-State Off Campus With Fam 2016'] + edu_clean_df['Cost In-State Off Campus Not With Fam 2016'] + edu_clean_df['Cost Out-State Off Campus Not With Fam 2016']/6\n",
    "\n",
    "institutions=edu_clean_df[\"Institution\"]\n",
    "\n",
    "tuition_count=0\n",
    "\n",
    "for institute in institutions:\n",
    "    edu_clean_df['Tuition 2021']=edu_clean_df['Tuition 2021']\n",
    "    edu_clean_df['Tuition 2020']=edu_clean_df['Tuition 2020']\n",
    "    edu_clean_df['Tuition 2019']=edu_clean_df['Tuition 2019']\n",
    "    edu_clean_df['Tuition 2018']=edu_clean_df['Tuition 2018']\n",
    "    edu_clean_df['Tuition 2017']=edu_clean_df['Tuition 2017']\n",
    "    edu_clean_df['Tuition 2016']=edu_clean_df['Tuition 2016']\n",
    " \n",
    "    tuition_count+=1\n",
    "\n",
    "edu_clean_df"
   ]
  },
  {
   "cell_type": "code",
   "execution_count": null,
   "metadata": {},
   "outputs": [],
   "source": [
    "tuition_df=edu_clean_df.loc[:, edu_clean_df.columns.drop(['Cost Out-State On Campus 2021',\n",
    "                                                          'Cost In-State On Campus 2021',\n",
    "                                                          'Cost Out-State Off Campus With Fam 2021',\n",
    "                                                          'Cost Out-State Off Campus Not With Fam 2021',\n",
    "                                                          'Cost In-State Off Campus With Fam 2021',\n",
    "                                                          'Cost In-State Off Campus Not With Fam 2021',\n",
    "                                                          'Cost Out-State On Campus 2020',\n",
    "                                                          'Cost In-State On Campus 2020',\n",
    "                                                          'Cost Out-State Off Campus With Fam 2020',\n",
    "                                                          'Cost In-State Off Campus With Fam 2020',\n",
    "                                                          'Cost In-State Off Campus Not With Fam 2020',\n",
    "                                                          'Cost Out-State Off Campus Not With Fam 2020',\n",
    "                                                          'Cost Out-State On Campus 2019',\n",
    "                                                          'Cost In-State On Campus 2019',\n",
    "                                                          'Cost In-State Off Campus With Fam 2019',\n",
    "                                                          'Cost Out-State Off Campus With Fam 2019',\n",
    "                                                          'Cost In-State Off Campus Not With Fam 2019',\n",
    "                                                          'Cost Out-State Off Campus Not With Fam 2019',\n",
    "                                                          'Cost Out-State On Campus 2018',\n",
    "                                                          'Cost In-State On Campus 2018',\n",
    "                                                          'Cost In-State Off Campus With Fam 2018',\n",
    "                                                          'Cost Out-State Off Campus With Fam 2018',\n",
    "                                                          'Cost In-State Off Campus Not With Fam 2018',\n",
    "                                                          'Cost Out-State Off Campus Not With Fam 2018',\n",
    "                                                          'Cost Out-State On Campus 2017',\n",
    "                                                          'Cost In-State On Campus 2017',\n",
    "                                                          'Cost In-State Off Campus With Fam 2017',\n",
    "                                                          'Cost Out-State Off Campus With Fam 2017',\n",
    "                                                          'Cost In-State Off Campus Not With Fam 2017',\n",
    "                                                          'Cost Out-State Off Campus Not With Fam 2017',\n",
    "                                                          'Cost Out-State On Campus 2016',\n",
    "                                                          'Cost In-State On Campus 2016',\n",
    "                                                          'Cost In-State Off Campus With Fam 2016',\n",
    "                                                          'Cost Out-State Off Campus With Fam 2016',\n",
    "                                                          'Cost In-State Off Campus Not With Fam 2016',\n",
    "                                                          'Cost Out-State Off Campus Not With Fam 2016',\n",
    "                                                          'Sector of institution',\n",
    "                                                          'Books/Supplies 2021',\n",
    "                                                          'Books/Supplies 2020',\n",
    "                                                          'Books/Supplies 2019',\n",
    "                                                          'Books/Supplies 2018',\n",
    "                                                          'Books/Supplies 2017',\n",
    "                                                          'Books/Supplies 2016',\n",
    "                                                          'Books and supplies 2015-16',\n",
    "                                                          'Avg Net Student Aid or Scholarship 2015'])]\n",
    "\n",
    "tuition_copy_df=tuition_df.copy()\n",
    "tuition_df[\"Tuition 2021\"] = tuition_df[\"Tuition 2021\"].map(\"${:,.2f}\".format)\n",
    "tuition_df[\"Tuition 2020\"] = tuition_df[\"Tuition 2020\"].map(\"${:,.2f}\".format)\n",
    "tuition_df[\"Tuition 2019\"] = tuition_df[\"Tuition 2019\"].map(\"${:,.2f}\".format)\n",
    "tuition_df[\"Tuition 2018\"] = tuition_df[\"Tuition 2018\"].map(\"${:,.2f}\".format)\n",
    "tuition_df[\"Tuition 2017\"] = tuition_df[\"Tuition 2017\"].map(\"${:,.2f}\".format)\n",
    "tuition_df[\"Tuition 2016\"] = tuition_df[\"Tuition 2016\"].map(\"${:,.2f}\".format)\n",
    "\n",
    "tuition_df"
   ]
  },
  {
   "attachments": {},
   "cell_type": "markdown",
   "metadata": {},
   "source": [
    "## TUITION BY SCHOOL SIZE"
   ]
  },
  {
   "cell_type": "code",
   "execution_count": null,
   "metadata": {},
   "outputs": [],
   "source": [
    "# Create a copy of copy_school_sum and save as s_b_s_size\n",
    "school_by_size = tuition_df.copy()\n"
   ]
  },
  {
   "cell_type": "code",
   "execution_count": null,
   "metadata": {},
   "outputs": [],
   "source": [
    "\n",
    "# Establish the bins.\n",
    "size_bins = [0, 1, 2, 3, 4]\n",
    "labels = [\"Very Small (<1000)\", \"Small (1000-2999)\", \"Medium (3000-9999)\", \"Large (=>10000)\"]"
   ]
  },
  {
   "cell_type": "code",
   "execution_count": null,
   "metadata": {},
   "outputs": [],
   "source": [
    "# Use bins and labels to sort through data and divide it up appropriately \n",
    "# save bin data as bins_school_size variable \n",
    "bins_school_size = pd.cut(school_by_size['Institution size category'], size_bins, labels = labels)\n",
    "\n",
    "# Convert bins_school_spending to df\n",
    "bins_school_size = pd.DataFrame(bins_school_size)\n",
    "\n",
    "# add a School Size column \n",
    "tuition_df['Institution size category'] = bins_school_size"
   ]
  },
  {
   "cell_type": "code",
   "execution_count": null,
   "metadata": {},
   "outputs": [],
   "source": [
    "#Do a groupby on school size and school name\n",
    "school_by_size = tuition_df.groupby(['Institution size category'])['Tuition 2021',\n",
    "                                                         'Tuition 2020',\n",
    "                                                         'Tuition 2019',\n",
    "                                                         'Tuition 2018',\n",
    "                                                         'Tuition 2017',\n",
    "                                                         'Tuition 2016'\n",
    "                                                         ].mean"
   ]
  },
  {
   "cell_type": "code",
   "execution_count": null,
   "metadata": {},
   "outputs": [],
   "source": [
    "school_by_size"
   ]
  },
  {
   "cell_type": "code",
   "execution_count": null,
   "metadata": {},
   "outputs": [],
   "source": []
  },
  {
   "cell_type": "code",
   "execution_count": null,
   "metadata": {},
   "outputs": [],
   "source": []
  }
 ],
 "metadata": {
  "kernelspec": {
   "display_name": "Python 3",
   "language": "python",
   "name": "python3"
  },
  "language_info": {
   "codemirror_mode": {
    "name": "ipython",
    "version": 3
   },
   "file_extension": ".py",
   "mimetype": "text/x-python",
   "name": "python",
   "nbconvert_exporter": "python",
   "pygments_lexer": "ipython3",
   "version": "3.10.9"
  }
 },
 "nbformat": 4,
 "nbformat_minor": 4
}
