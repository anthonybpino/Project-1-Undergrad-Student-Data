{
 "cells": [
  {
   "attachments": {},
   "cell_type": "markdown",
   "metadata": {},
   "source": [
    "# The Cost of an Undergraduate Education (2019 / 2021)\n",
    "### A look at costs per state, per type, and per length"
   ]
  },
  {
   "cell_type": "code",
   "execution_count": 1,
   "metadata": {},
   "outputs": [],
   "source": [
    "import pandas as pd\n",
    "import numpy as np\n",
    "import matplotlib.pyplot as plt\n",
    "import plotly.express as px\n",
    "import warnings\n",
    "import os\n",
    "import matplotlib.cm as cm\n",
    "\n",
    "warnings.filterwarnings(\"ignore\")"
   ]
  },
  {
   "attachments": {},
   "cell_type": "markdown",
   "metadata": {},
   "source": [
    "**Import csv file and display initial dataframe**"
   ]
  },
  {
   "cell_type": "code",
   "execution_count": 2,
   "metadata": {},
   "outputs": [
    {
     "data": {
      "text/html": [
       "<div>\n",
       "<style scoped>\n",
       "    .dataframe tbody tr th:only-of-type {\n",
       "        vertical-align: middle;\n",
       "    }\n",
       "\n",
       "    .dataframe tbody tr th {\n",
       "        vertical-align: top;\n",
       "    }\n",
       "\n",
       "    .dataframe thead th {\n",
       "        text-align: right;\n",
       "    }\n",
       "</style>\n",
       "<table border=\"1\" class=\"dataframe\">\n",
       "  <thead>\n",
       "    <tr style=\"text-align: right;\">\n",
       "      <th></th>\n",
       "      <th>Year</th>\n",
       "      <th>State</th>\n",
       "      <th>Type</th>\n",
       "      <th>Length</th>\n",
       "      <th>Expense</th>\n",
       "      <th>Cost</th>\n",
       "    </tr>\n",
       "  </thead>\n",
       "  <tbody>\n",
       "    <tr>\n",
       "      <th>0</th>\n",
       "      <td>2013</td>\n",
       "      <td>Alabama</td>\n",
       "      <td>Private</td>\n",
       "      <td>4-year</td>\n",
       "      <td>Fees/Tuition</td>\n",
       "      <td>13983</td>\n",
       "    </tr>\n",
       "    <tr>\n",
       "      <th>1</th>\n",
       "      <td>2013</td>\n",
       "      <td>Alabama</td>\n",
       "      <td>Private</td>\n",
       "      <td>4-year</td>\n",
       "      <td>Room/Board</td>\n",
       "      <td>8503</td>\n",
       "    </tr>\n",
       "    <tr>\n",
       "      <th>2</th>\n",
       "      <td>2013</td>\n",
       "      <td>Alabama</td>\n",
       "      <td>Public In-State</td>\n",
       "      <td>2-year</td>\n",
       "      <td>Fees/Tuition</td>\n",
       "      <td>4048</td>\n",
       "    </tr>\n",
       "    <tr>\n",
       "      <th>3</th>\n",
       "      <td>2013</td>\n",
       "      <td>Alabama</td>\n",
       "      <td>Public In-State</td>\n",
       "      <td>4-year</td>\n",
       "      <td>Fees/Tuition</td>\n",
       "      <td>8073</td>\n",
       "    </tr>\n",
       "    <tr>\n",
       "      <th>4</th>\n",
       "      <td>2013</td>\n",
       "      <td>Alabama</td>\n",
       "      <td>Public In-State</td>\n",
       "      <td>4-year</td>\n",
       "      <td>Room/Board</td>\n",
       "      <td>8473</td>\n",
       "    </tr>\n",
       "  </tbody>\n",
       "</table>\n",
       "</div>"
      ],
      "text/plain": [
       "   Year    State             Type  Length       Expense   Cost\n",
       "0  2013  Alabama          Private  4-year  Fees/Tuition  13983\n",
       "1  2013  Alabama          Private  4-year    Room/Board   8503\n",
       "2  2013  Alabama  Public In-State  2-year  Fees/Tuition   4048\n",
       "3  2013  Alabama  Public In-State  4-year  Fees/Tuition   8073\n",
       "4  2013  Alabama  Public In-State  4-year    Room/Board   8473"
      ]
     },
     "execution_count": 2,
     "metadata": {},
     "output_type": "execute_result"
    }
   ],
   "source": [
    "school_df = pd.read_csv(\"data_sources/nces330_20.csv\")\n",
    "school_df = school_df.dropna()\n",
    "school_df = school_df.rename(columns={\"Value\": \"Cost\"})\n",
    "school_df.head()"
   ]
  },
  {
   "cell_type": "code",
   "execution_count": 3,
   "metadata": {},
   "outputs": [
    {
     "data": {
      "text/plain": [
       "Alabama                 71\n",
       "Montana                 71\n",
       "New Hampshire           71\n",
       "New Jersey              71\n",
       "New Mexico              71\n",
       "New York                71\n",
       "North Carolina          71\n",
       "North Dakota            71\n",
       "Ohio                    71\n",
       "Oklahoma                71\n",
       "Oregon                  71\n",
       "Pennsylvania            71\n",
       "Rhode Island            71\n",
       "South Carolina          71\n",
       "South Dakota            71\n",
       "Tennessee               71\n",
       "Texas                   71\n",
       "Utah                    71\n",
       "Vermont                 71\n",
       "Virginia                71\n",
       "Washington              71\n",
       "West Virginia           71\n",
       "Wisconsin               71\n",
       "Nebraska                71\n",
       "Missouri                71\n",
       "Illinois                71\n",
       "California              71\n",
       "Connecticut             71\n",
       "Arkansas                71\n",
       "Arizona                 71\n",
       "Florida                 71\n",
       "Georgia                 71\n",
       "Hawaii                  71\n",
       "Idaho                   71\n",
       "Mississippi             71\n",
       "Indiana                 71\n",
       "Iowa                    71\n",
       "Kansas                  71\n",
       "Kentucky                71\n",
       "Louisiana               71\n",
       "Maine                   71\n",
       "Maryland                71\n",
       "Massachusetts           71\n",
       "Michigan                71\n",
       "Minnesota               71\n",
       "Colorado                71\n",
       "Nevada                  65\n",
       "Alaska                  63\n",
       "Delaware                61\n",
       "Wyoming                 58\n",
       "District of Columbia    35\n",
       "Name: State, dtype: int64"
      ]
     },
     "execution_count": 3,
     "metadata": {},
     "output_type": "execute_result"
    }
   ],
   "source": [
    "school_df[\"State\"].value_counts()"
   ]
  },
  {
   "cell_type": "code",
   "execution_count": 4,
   "metadata": {},
   "outputs": [
    {
     "name": "stdout",
     "output_type": "stream",
     "text": [
      "<class 'pandas.core.frame.DataFrame'>\n",
      "RangeIndex: 3548 entries, 0 to 3547\n",
      "Data columns (total 6 columns):\n",
      " #   Column   Non-Null Count  Dtype \n",
      "---  ------   --------------  ----- \n",
      " 0   Year     3548 non-null   int64 \n",
      " 1   State    3548 non-null   object\n",
      " 2   Type     3548 non-null   object\n",
      " 3   Length   3548 non-null   object\n",
      " 4   Expense  3548 non-null   object\n",
      " 5   Cost     3548 non-null   int64 \n",
      "dtypes: int64(2), object(4)\n",
      "memory usage: 166.4+ KB\n"
     ]
    },
    {
     "data": {
      "text/html": [
       "<div>\n",
       "<style scoped>\n",
       "    .dataframe tbody tr th:only-of-type {\n",
       "        vertical-align: middle;\n",
       "    }\n",
       "\n",
       "    .dataframe tbody tr th {\n",
       "        vertical-align: top;\n",
       "    }\n",
       "\n",
       "    .dataframe thead th {\n",
       "        text-align: right;\n",
       "    }\n",
       "</style>\n",
       "<table border=\"1\" class=\"dataframe\">\n",
       "  <thead>\n",
       "    <tr style=\"text-align: right;\">\n",
       "      <th></th>\n",
       "      <th>Year</th>\n",
       "      <th>Cost</th>\n",
       "    </tr>\n",
       "  </thead>\n",
       "  <tbody>\n",
       "    <tr>\n",
       "      <th>count</th>\n",
       "      <td>3548.000000</td>\n",
       "      <td>3548.000000</td>\n",
       "    </tr>\n",
       "    <tr>\n",
       "      <th>mean</th>\n",
       "      <td>2016.923337</td>\n",
       "      <td>13027.720124</td>\n",
       "    </tr>\n",
       "    <tr>\n",
       "      <th>std</th>\n",
       "      <td>2.553910</td>\n",
       "      <td>8734.568645</td>\n",
       "    </tr>\n",
       "    <tr>\n",
       "      <th>min</th>\n",
       "      <td>2013.000000</td>\n",
       "      <td>1225.000000</td>\n",
       "    </tr>\n",
       "    <tr>\n",
       "      <th>25%</th>\n",
       "      <td>2015.000000</td>\n",
       "      <td>7756.750000</td>\n",
       "    </tr>\n",
       "    <tr>\n",
       "      <th>50%</th>\n",
       "      <td>2017.000000</td>\n",
       "      <td>10203.500000</td>\n",
       "    </tr>\n",
       "    <tr>\n",
       "      <th>75%</th>\n",
       "      <td>2019.000000</td>\n",
       "      <td>14830.750000</td>\n",
       "    </tr>\n",
       "    <tr>\n",
       "      <th>max</th>\n",
       "      <td>2021.000000</td>\n",
       "      <td>49152.000000</td>\n",
       "    </tr>\n",
       "  </tbody>\n",
       "</table>\n",
       "</div>"
      ],
      "text/plain": [
       "              Year          Cost\n",
       "count  3548.000000   3548.000000\n",
       "mean   2016.923337  13027.720124\n",
       "std       2.553910   8734.568645\n",
       "min    2013.000000   1225.000000\n",
       "25%    2015.000000   7756.750000\n",
       "50%    2017.000000  10203.500000\n",
       "75%    2019.000000  14830.750000\n",
       "max    2021.000000  49152.000000"
      ]
     },
     "execution_count": 4,
     "metadata": {},
     "output_type": "execute_result"
    }
   ],
   "source": [
    "# Get dataset info\n",
    "school_df.info()\n",
    "# Display the description of the dataframe\n",
    "school_df.describe()"
   ]
  },
  {
   "cell_type": "code",
   "execution_count": 5,
   "metadata": {},
   "outputs": [
    {
     "data": {
      "text/plain": [
       "Year       0\n",
       "State      0\n",
       "Type       0\n",
       "Length     0\n",
       "Expense    0\n",
       "Cost       0\n",
       "dtype: int64"
      ]
     },
     "execution_count": 5,
     "metadata": {},
     "output_type": "execute_result"
    }
   ],
   "source": [
    "# Get the dimension of the dataframe\n",
    "school_df.shape\n",
    "# Check for the missing values in the dataset\n",
    "school_df.isna().sum()\n"
   ]
  },
  {
   "cell_type": "code",
   "execution_count": 6,
   "metadata": {},
   "outputs": [],
   "source": [
    "state_codes = {\"Alabama\": \"AL\", \"Montana\": \"MT\", \"New Hampshire\": \"NH\", \"New Jersey\": \"NJ\",\n",
    "               \"New Mexico\": \"NM\", \"New York\": \"NY\", \"North Carolina\": \"NC\", \"North Dakota\": \"ND\",\n",
    "               \"Ohio\": \"OH\", \"Oklahoma\": \"OK\", \"Oregon\": \"OR\", \"Pennsylvania\": \"PA\", \n",
    "               \"Rhode Island\": \"RI\", \"South Carolina\": \"SC\", \"South Dakota\": \"SD\", \"Tennessee\": \"TN\",\n",
    "               \"Texas\": \"TX\", \"Utah\": \"UT\", \"Vermont\": \"VT\", \"Virginia\": \"VA\", \n",
    "               \"Washington\": \"WA\", \"West Virginia\": \"WV\", \"Wisconsin\": \"WI\", \"Nebraska\": \"NE\",\n",
    "               \"Missouri\": \"MO\", \"Illinois\": \"IL\", \"California\": \"CA\", \"Connecticut\": \"CT\",\n",
    "               \"Arkansas\": \"AR\", \"Arizona\": \"AZ\", \"Florida\": \"FL\", \"Georgia\": \"GA\",\n",
    "               \"Hawaii\": \"HI\", \"Idaho\": \"ID\", \"Mississippi\": \"MS\", \"Indiana\": \"IN\",\n",
    "               \"Iowa\": \"IA\", \"Kansas\": \"KS\", \"Kentucky\": \"KY\", \"Louisiana\": \"LA\",\n",
    "               \"Maine\": \"ME\", \"Maryland\": \"MD\", \"Massachusetts\": \"MA\", \"Michigan\": \"MI\",\n",
    "               \"Minnesota\": \"MN\", \"Colorado\": \"CO\", \"Nevada\": \"NV\", \"Alaska\": \"AK\",\n",
    "               \"Delaware\": \"DE\", \"Wyoming\": \"WY\", \"District of Columbia\": \"DC\"}\n",
    "\n",
    "school_df[\"State Code\"] = school_df[\"State\"].map(state_codes)"
   ]
  },
  {
   "attachments": {},
   "cell_type": "markdown",
   "metadata": {},
   "source": [
    "**Create seperate dataframes for fees/tuition and room/board. Create frames for 3 year period**"
   ]
  },
  {
   "cell_type": "code",
   "execution_count": 7,
   "metadata": {},
   "outputs": [],
   "source": [
    "fees_tuition_data = school_df[school_df[\"Expense\"].str.lower().str.contains(\"fees/tuition\")]\n",
    "fees_tuition_data[\"Expense\"] = fees_tuition_data[\"Expense\"].str.replace(\"Room/Board\", \"\")\n",
    "fees_tuition_data.reset_index(drop = True, inplace = True)\n",
    "\n",
    "room_board_data = school_df[school_df[\"Expense\"].str.lower().str.contains(\"room/board\")]\n",
    "room_board_data[\"Expense\"] = room_board_data[\"Expense\"].str.replace(\"Fees/Tuition\", \"\")\n",
    "room_board_data.reset_index(drop = True, inplace = True)\n",
    "\n",
    "fees_tuition_data_2019 = fees_tuition_data[fees_tuition_data[\"Year\"] == 2019]"
   ]
  },
  {
   "attachments": {},
   "cell_type": "markdown",
   "metadata": {},
   "source": [
    "**Further separate frames into private and public institutions, three years**"
   ]
  },
  {
   "cell_type": "code",
   "execution_count": 8,
   "metadata": {},
   "outputs": [],
   "source": [
    "school_private_2021 = fees_tuition_data[fees_tuition_data[\"Type\"] == \"Private\"].groupby([\"State\"]).max()\n",
    "school_private_2021 = school_private_2021.sort_values(by=\"Cost\")\n",
    "school_private_2021 = school_private_2021[school_private_2021[\"Year\"] == 2021]\n",
    "del school_private_2021[\"Year\"]\n",
    "\n",
    "school_public_2021 = fees_tuition_data[fees_tuition_data[\"Type\"] != \"Private\"].groupby([\"State\"]).max()\n",
    "school_public_2021 = school_public_2021.sort_values(by=\"Cost\")\n",
    "school_public_2021 = school_public_2021[school_public_2021[\"Year\"] == 2021]\n",
    "del school_public_2021[\"Year\"]"
   ]
  },
  {
   "cell_type": "code",
   "execution_count": 9,
   "metadata": {},
   "outputs": [],
   "source": [
    "school_private_2019 = fees_tuition_data_2019[fees_tuition_data_2019[\"Type\"] == \"Private\"].groupby([\"State\"]).max()\n",
    "school_private_2019 = school_private_2019.sort_values(by=\"Cost\")\n",
    "\n",
    "school_public_2019 = fees_tuition_data_2019[fees_tuition_data_2019[\"Type\"] != \"Private\"].groupby([\"State\"]).max()\n",
    "school_public_2019 = school_public_2019.sort_values(by=\"Cost\")"
   ]
  },
  {
   "attachments": {},
   "cell_type": "markdown",
   "metadata": {},
   "source": [
    "**Finally, grab the differences between two and four year costs, 2021 and 2019**"
   ]
  },
  {
   "cell_type": "code",
   "execution_count": 10,
   "metadata": {},
   "outputs": [],
   "source": [
    "school_twoyear = fees_tuition_data[fees_tuition_data[\"Length\"] == \"2-year\"].groupby([\"State\"]).max()\n",
    "school_twoyear = school_twoyear.sort_values(by=\"Cost\")\n",
    "school_twoyear = school_twoyear[school_twoyear[\"Year\"] == 2021]\n",
    "del school_twoyear[\"Year\"]\n",
    "\n",
    "school_twoyear_2019 = fees_tuition_data_2019[fees_tuition_data_2019[\"Length\"] == \"2-year\"].groupby([\"State\"]).max()\n",
    "school_twoyear_2019 = school_twoyear_2019.sort_values(by=\"Cost\")\n",
    "del school_twoyear_2019[\"Year\"]\n",
    "\n",
    "school_fouryear_public_2021 = school_public_2021[school_public_2021[\"Length\"] == \"4-year\"]\n",
    "school_fouryear_public_2021.head()\n",
    "\n",
    "school_fouryear_public_2019 = school_public_2019[school_public_2019[\"Length\"] == \"4-year\"]\n",
    "del school_fouryear_public_2019[\"Year\"]"
   ]
  },
  {
   "cell_type": "code",
   "execution_count": 11,
   "metadata": {},
   "outputs": [
    {
     "data": {
      "text/html": [
       "<div>\n",
       "<style scoped>\n",
       "    .dataframe tbody tr th:only-of-type {\n",
       "        vertical-align: middle;\n",
       "    }\n",
       "\n",
       "    .dataframe tbody tr th {\n",
       "        vertical-align: top;\n",
       "    }\n",
       "\n",
       "    .dataframe thead th {\n",
       "        text-align: right;\n",
       "    }\n",
       "</style>\n",
       "<table border=\"1\" class=\"dataframe\">\n",
       "  <thead>\n",
       "    <tr style=\"text-align: right;\">\n",
       "      <th></th>\n",
       "      <th>Year</th>\n",
       "      <th>Expense</th>\n",
       "      <th>Cost</th>\n",
       "    </tr>\n",
       "  </thead>\n",
       "  <tbody>\n",
       "    <tr>\n",
       "      <th>0</th>\n",
       "      <td>2013</td>\n",
       "      <td>Fees/Tuition</td>\n",
       "      <td>12630.67</td>\n",
       "    </tr>\n",
       "    <tr>\n",
       "      <th>1</th>\n",
       "      <td>2013</td>\n",
       "      <td>Room/Board</td>\n",
       "      <td>9278.98</td>\n",
       "    </tr>\n",
       "    <tr>\n",
       "      <th>2</th>\n",
       "      <td>2014</td>\n",
       "      <td>Fees/Tuition</td>\n",
       "      <td>13087.60</td>\n",
       "    </tr>\n",
       "    <tr>\n",
       "      <th>3</th>\n",
       "      <td>2014</td>\n",
       "      <td>Room/Board</td>\n",
       "      <td>9578.55</td>\n",
       "    </tr>\n",
       "    <tr>\n",
       "      <th>4</th>\n",
       "      <td>2015</td>\n",
       "      <td>Fees/Tuition</td>\n",
       "      <td>13481.23</td>\n",
       "    </tr>\n",
       "    <tr>\n",
       "      <th>5</th>\n",
       "      <td>2015</td>\n",
       "      <td>Room/Board</td>\n",
       "      <td>9822.45</td>\n",
       "    </tr>\n",
       "    <tr>\n",
       "      <th>6</th>\n",
       "      <td>2016</td>\n",
       "      <td>Fees/Tuition</td>\n",
       "      <td>13991.57</td>\n",
       "    </tr>\n",
       "    <tr>\n",
       "      <th>7</th>\n",
       "      <td>2016</td>\n",
       "      <td>Room/Board</td>\n",
       "      <td>10107.83</td>\n",
       "    </tr>\n",
       "    <tr>\n",
       "      <th>8</th>\n",
       "      <td>2017</td>\n",
       "      <td>Fees/Tuition</td>\n",
       "      <td>14512.60</td>\n",
       "    </tr>\n",
       "    <tr>\n",
       "      <th>9</th>\n",
       "      <td>2017</td>\n",
       "      <td>Room/Board</td>\n",
       "      <td>10415.84</td>\n",
       "    </tr>\n",
       "    <tr>\n",
       "      <th>10</th>\n",
       "      <td>2018</td>\n",
       "      <td>Fees/Tuition</td>\n",
       "      <td>15096.67</td>\n",
       "    </tr>\n",
       "    <tr>\n",
       "      <th>11</th>\n",
       "      <td>2018</td>\n",
       "      <td>Room/Board</td>\n",
       "      <td>10735.54</td>\n",
       "    </tr>\n",
       "    <tr>\n",
       "      <th>12</th>\n",
       "      <td>2019</td>\n",
       "      <td>Fees/Tuition</td>\n",
       "      <td>15642.44</td>\n",
       "    </tr>\n",
       "    <tr>\n",
       "      <th>13</th>\n",
       "      <td>2019</td>\n",
       "      <td>Room/Board</td>\n",
       "      <td>11057.58</td>\n",
       "    </tr>\n",
       "    <tr>\n",
       "      <th>14</th>\n",
       "      <td>2020</td>\n",
       "      <td>Fees/Tuition</td>\n",
       "      <td>16046.87</td>\n",
       "    </tr>\n",
       "    <tr>\n",
       "      <th>15</th>\n",
       "      <td>2020</td>\n",
       "      <td>Room/Board</td>\n",
       "      <td>11376.15</td>\n",
       "    </tr>\n",
       "    <tr>\n",
       "      <th>16</th>\n",
       "      <td>2021</td>\n",
       "      <td>Fees/Tuition</td>\n",
       "      <td>17857.34</td>\n",
       "    </tr>\n",
       "    <tr>\n",
       "      <th>17</th>\n",
       "      <td>2021</td>\n",
       "      <td>Room/Board</td>\n",
       "      <td>11631.21</td>\n",
       "    </tr>\n",
       "  </tbody>\n",
       "</table>\n",
       "</div>"
      ],
      "text/plain": [
       "    Year       Expense      Cost\n",
       "0   2013  Fees/Tuition  12630.67\n",
       "1   2013    Room/Board   9278.98\n",
       "2   2014  Fees/Tuition  13087.60\n",
       "3   2014    Room/Board   9578.55\n",
       "4   2015  Fees/Tuition  13481.23\n",
       "5   2015    Room/Board   9822.45\n",
       "6   2016  Fees/Tuition  13991.57\n",
       "7   2016    Room/Board  10107.83\n",
       "8   2017  Fees/Tuition  14512.60\n",
       "9   2017    Room/Board  10415.84\n",
       "10  2018  Fees/Tuition  15096.67\n",
       "11  2018    Room/Board  10735.54\n",
       "12  2019  Fees/Tuition  15642.44\n",
       "13  2019    Room/Board  11057.58\n",
       "14  2020  Fees/Tuition  16046.87\n",
       "15  2020    Room/Board  11376.15\n",
       "16  2021  Fees/Tuition  17857.34\n",
       "17  2021    Room/Board  11631.21"
      ]
     },
     "execution_count": 11,
     "metadata": {},
     "output_type": "execute_result"
    }
   ],
   "source": [
    "### Nema added 4/8\n",
    "# Compute yearly expenses /cost\n",
    "#school_df = school_df.rename(columns={\"Expense\": \"Expense Type\"})\n",
    "avg_yearly_cost = school_df.groupby(['Year','Expense']).mean().round(2).reset_index() \n",
    "avg_yearly_cost\n"
   ]
  },
  {
   "cell_type": "code",
   "execution_count": 12,
   "metadata": {},
   "outputs": [],
   "source": [
    "### Nema added 4/8\n",
    "# Separate expenses / cost (Fees/Tuition) & Room/Board\n",
    "yearly_cost_fees_tuition = avg_yearly_cost['Cost'] == 'Fees/Tuition'\n",
    "yearly_cost_Room_Board = avg_yearly_cost['Cost'] == 'Room_Board'\n",
    "yearly_fees_tuition = avg_yearly_cost[yearly_cost_fees_tuition].groupby('Year')['Cost'].mean().round(2) \n",
    "yearly_Room_Board = avg_yearly_cost[yearly_cost_Room_Board].groupby('Year')['Cost'].mean().round(2) \n"
   ]
  },
  {
   "cell_type": "code",
   "execution_count": 13,
   "metadata": {},
   "outputs": [
    {
     "data": {
      "text/plain": [
       "10203.5"
      ]
     },
     "execution_count": 13,
     "metadata": {},
     "output_type": "execute_result"
    }
   ],
   "source": [
    "### Nema added 4/8\n",
    "# Get the median cost \n",
    "median_cost = school_df['Cost'].median()\n",
    "median_cost"
   ]
  },
  {
   "cell_type": "code",
   "execution_count": 14,
   "metadata": {},
   "outputs": [
    {
     "data": {
      "text/plain": [
       "State\n",
       "Idaho                    8609.197183\n",
       "Wyoming                  8725.293103\n",
       "Utah                     8918.549296\n",
       "North Dakota             9227.746479\n",
       "South Dakota             9647.070423\n",
       "Mississippi              9657.126761\n",
       "West Virginia           10080.295775\n",
       "New Mexico              10114.549296\n",
       "Arkansas                10233.816901\n",
       "Kansas                  10589.464789\n",
       "Nebraska                10701.816901\n",
       "Missouri                11174.746479\n",
       "Arizona                 11195.957746\n",
       "Oklahoma                11215.225352\n",
       "Florida                 11356.098592\n",
       "Alabama                 11362.732394\n",
       "Alaska                  11629.174603\n",
       "Montana                 11658.943662\n",
       "Iowa                    12403.718310\n",
       "Wisconsin               12499.394366\n",
       "Hawaii                  12524.309859\n",
       "Georgia                 12563.000000\n",
       "Texas                   12596.380282\n",
       "Minnesota               12642.295775\n",
       "Nevada                  12710.600000\n",
       "North Carolina          12843.859155\n",
       "Kentucky                12941.281690\n",
       "Louisiana               13355.577465\n",
       "South Carolina          13446.788732\n",
       "Tennessee               13483.042254\n",
       "Colorado                13517.126761\n",
       "Ohio                    13620.802817\n",
       "Delaware                13834.622951\n",
       "Michigan                13881.816901\n",
       "Indiana                 14066.450704\n",
       "Virginia                14187.591549\n",
       "Maine                   14378.971831\n",
       "Washington              14730.028169\n",
       "Illinois                15167.633803\n",
       "California              15196.647887\n",
       "New York                15283.309859\n",
       "Maryland                15332.323944\n",
       "Oregon                  15533.436620\n",
       "New Jersey              15858.788732\n",
       "Pennsylvania            16368.957746\n",
       "New Hampshire           16560.591549\n",
       "Rhode Island            16701.521127\n",
       "Massachusetts           17282.098592\n",
       "Connecticut             17435.211268\n",
       "Vermont                 18596.492958\n",
       "District of Columbia    18880.200000\n",
       "Name: Cost, dtype: float64"
      ]
     },
     "execution_count": 14,
     "metadata": {},
     "output_type": "execute_result"
    }
   ],
   "source": [
    "\n",
    "### Nema added 4/8\n",
    "# Get the average cost all state\n",
    "avg_cost_state = school_df.groupby('State')['Cost'].mean().sort_values()\n",
    "avg_cost_state"
   ]
  },
  {
   "attachments": {},
   "cell_type": "markdown",
   "metadata": {},
   "source": [
    "## Plot out costs gathered from created DataFrames and compare them to eachother"
   ]
  },
  {
   "cell_type": "code",
   "execution_count": 15,
   "metadata": {},
   "outputs": [
    {
     "data": {
      "image/png": "[encoded data removed]",
      "text/plain": [
       "<Figure size 2000x2000 with 1 Axes>"
      ]
     },
     "metadata": {},
     "output_type": "display_data"
    }
   ],
   "source": [
    "### Nema added 4/8\n",
    "# Plot the average cost of all states and add a vertical line (median)\n",
    "plt.figure(figsize=(20,20))\n",
    "plt.barh(avg_cost_state.index, avg_cost_state.values, color=\"#1f77b4\")\n",
    "plt.title(\"Average Cost (2013-2021)\", fontsize = 20)\n",
    "plt.xlabel(\"Average Cost ($)\", fontsize = 16)\n",
    "plt.ylabel(\"State\", fontsize = 16)\n",
    "plt.axvline(median_cost, color= \"maroon\", ls =\"--\", label = f'Median Cost = ${median_cost}',lw= 4)\n",
    "plt.legend(fontsize = 16, loc =\"upper right\")\n",
    "plt.xticks(size = 14)\n",
    "plt.yticks(size = 14)\n",
    "plt.show()"
   ]
  },
  {
   "attachments": {},
   "cell_type": "markdown",
   "metadata": {},
   "source": [
    "# Analysis: The median (cost) is $10,203.5. Most states are above the median. Idaho, Wyoming, Utah, North Dakota, South Dakota, Mississippi, West Virginia, & New Mexico were the states below the median."
   ]
  },
  {
   "attachments": {},
   "cell_type": "markdown",
   "metadata": {},
   "source": [
    "_\n",
    "### Plot 2019 and 2021 cost of 4 year public and private education\n",
    "_"
   ]
  },
  {
   "cell_type": "code",
   "execution_count": 16,
   "metadata": {},
   "outputs": [],
   "source": [
    "school_fouryear_public_2019[:5].plot.barh(figsize=(8, 5), color=\"brown\")\n",
    "plt.legend(labels=[\"4 Year Cost\"])\n",
    "plt.title(\"2019 Average Fees/Tuition Cost of a 4 Year Public Education\",\n",
    "          fontweight=\"bold\")\n",
    "plt.xlabel(\"State\", fontweight=\"bold\")\n",
    "plt.ylabel(\"Cost ($)\", fontweight=\"bold\")\n",
    "plt.savefig(os.path.join(\"output\", \"public_2019.png\"))\n",
    "plt.show()\n"
   ]
  },
  {
   "cell_type": "code",
   "execution_count": null,
   "metadata": {},
   "outputs": [],
   "source": [
    "school_fouryear_public_2019[46:].plot.barh(figsize=(8, 5), color=\"brown\")\n",
    "plt.legend(labels=[\"4 Year Cost\"])\n",
    "plt.title(\"2019 Average Fees/Tuition Cost of a 4 Year Public Education\",\n",
    "          fontweight=\"bold\")\n",
    "plt.xlabel(\"State\", fontweight=\"bold\")\n",
    "plt.ylabel(\"Cost ($)\", fontweight=\"bold\")\n",
    "plt.savefig(os.path.join(\"output\", \"public_2019.png\"))\n",
    "plt.show()\n"
   ]
  },
  {
   "cell_type": "code",
   "execution_count": null,
   "metadata": {},
   "outputs": [],
   "source": [
    "school_fouryear_public_2019.plot.bar(figsize = (15  ,5), color=\"brown\")\n",
    "plt.legend(labels=[\"4 Year Cost\"])\n",
    "plt.title(\"2019 Average Fees/Tuition Cost of a 4 Year Public Education\", fontweight=\"bold\")\n",
    "plt.xlabel(\"State\", fontweight=\"bold\")\n",
    "plt.ylabel(\"Cost ($)\", fontweight=\"bold\")\n",
    "plt.savefig(os.path.join(\"output\", \"public_2019.png\"))\n",
    "plt.show()"
   ]
  },
  {
   "cell_type": "code",
   "execution_count": null,
   "metadata": {},
   "outputs": [],
   "source": [
    "school_fouryear_public_2021.plot.bar(figsize = (18,5), color=\"blue\")\n",
    "plt.legend(labels=[\"4 Year Cost\"])\n",
    "plt.title(\"2021 Average Fees/Tuition Cost of a 4 Year Public Education\", fontweight=\"bold\")\n",
    "plt.xlabel(\"State\", fontweight=\"bold\")\n",
    "plt.ylabel(\"Cost ($)\", fontweight=\"bold\")\n",
    "plt.savefig(os.path.join(\"output\", \"public_2021.png\"))\n",
    "plt.show()"
   ]
  },
  {
   "cell_type": "code",
   "execution_count": null,
   "metadata": {},
   "outputs": [],
   "source": [
    "combined_for_plot_2021 = pd.merge(school_fouryear_public_2019, school_fouryear_public_2021, on=[\n",
    "                                  \"State\", \"State Code\", \"Length\", \"Expense\", \"Type\"])\n",
    "combined_for_plot_2021 = combined_for_plot_2021.rename(columns={\"Cost_x\": \"Cost 2019\",\n",
    "                                                                \"Cost_y\": \"Cost 2021\",\n",
    "                                                                })\n",
    "combined_for_plot_2021[\"Tuition_Diff_2021-2019\"] = combined_for_plot_2021[\"Cost 2021\"] - \\\n",
    "    combined_for_plot_2021[\"Cost 2019\"]\n",
    "combined_for_plot_2021[\"% Tuition Increase 2019-2021\"] = (\n",
    "    combined_for_plot_2021[\"Tuition_Diff_2021-2019\"] / combined_for_plot_2021[\"Cost 2019\"])*100\n",
    "combined_for_plot_2021\n",
    "\n",
    "\n"
   ]
  },
  {
   "attachments": {},
   "cell_type": "markdown",
   "metadata": {},
   "source": [
    "##  \"Percentage Variance from 2019 to 2021 Public out of state 4 years\""
   ]
  },
  {
   "cell_type": "code",
   "execution_count": null,
   "metadata": {},
   "outputs": [],
   "source": [
    "combined_for_plot_2021[\"% Tuition Increase 2019-2021\"].plot.bar(figsize=(18, 5), color=\"blue\")\n",
    "plt.legend(labels=[\"4 Year Cost\"])\n",
    "plt.title(\"Percenatage Variance from 2019 to 2021 Public out of state 4 years\",\n",
    "          fontweight=\"bold\")\n",
    "plt.xlabel(\"State\", fontweight=\"bold\")\n",
    "plt.ylabel(\"Percentage\", fontweight=\"bold\")\n",
    "#plt.text(combined_for_plot_2021[\"% Tuition Increase 2019-2021\"])\n",
    "\n",
    "# plt.savefig(os.path.join(\"output\", \"public_2021.png\"))\n",
    "plt.show()\n"
   ]
  },
  {
   "cell_type": "code",
   "execution_count": null,
   "metadata": {},
   "outputs": [],
   "source": [
    "combined_for_plot_2021 = pd.merge(school_fouryear_public_2019, school_fouryear_public_2021, on=[\"State\", \"State Code\", \"Length\", \"Expense\", \"Type\"])\n",
    "combined_for_plot_2021 = combined_for_plot_2021.rename(columns={\"Cost_x\": \"Cost 2019\", \n",
    "                                                                \"Cost_y\": \"Cost 2021\",\n",
    "                                                                })\n",
    "combined_for_plot_2021.head()"
   ]
  },
  {
   "cell_type": "code",
   "execution_count": null,
   "metadata": {},
   "outputs": [],
   "source": [
    "combined_for_plot_2021.plot.bar(figsize = (18, 5), color=[\"brown\", \"blue\"], width = 0.6)\n",
    "plt.title(\"2019/2021 State Cost Comparison 4 year public education\", fontweight=\"bold\")\n",
    "plt.ylabel(\"Cost ($)\", fontweight=\"bold\")\n",
    "plt.xlabel(\"State\", fontweight=\"bold\")\n",
    "plt.savefig(os.path.join(\"output\", \"four_comparison_2019_2021.png\"))\n",
    "plt.show()"
   ]
  },
  {
   "cell_type": "code",
   "execution_count": null,
   "metadata": {},
   "outputs": [],
   "source": [
    "school_twoyear_2019.plot.bar(figsize = (18,5), color=\"black\")\n",
    "plt.legend(labels=[\"2019 2 Year Cost\"])\n",
    "plt.title(\"2019 Average Fees/Tuition of a 2 Year Public Education\", fontweight=\"bold\")\n",
    "plt.xlabel(\"State\", fontweight=\"bold\")\n",
    "plt.ylabel(\"Cost ($)\", fontweight=\"bold\")\n",
    "plt.savefig(os.path.join(\"output\", \"two_year_public_2019.png\"))\n",
    "plt.show()"
   ]
  },
  {
   "cell_type": "code",
   "execution_count": null,
   "metadata": {},
   "outputs": [],
   "source": [
    "school_twoyear.plot.bar(figsize = (18,5), color=\"red\")\n",
    "plt.legend(labels=[\"2 Year Cost\"])\n",
    "plt.title(\"2021 Average Fees/Tuition of a 2 Year Public Education\", fontweight=\"bold\")\n",
    "plt.xlabel(\"State\", fontweight=\"bold\")\n",
    "plt.ylabel(\"Cost ($)\", fontweight=\"bold\")\n",
    "plt.savefig(os.path.join(\"output\", \"two_year_public_2021.png\"))\n",
    "plt.show()"
   ]
  },
  {
   "attachments": {},
   "cell_type": "markdown",
   "metadata": {},
   "source": [
    "**Combine 2year dataframes to make comparison chart**"
   ]
  },
  {
   "cell_type": "code",
   "execution_count": null,
   "metadata": {},
   "outputs": [],
   "source": [
    "combined_for_plot_2year = pd.merge(school_twoyear_2019, school_twoyear, on=[\"State\", \"State Code\", \"Length\", \"Expense\", \"Type\"])\n",
    "combined_for_plot_2year = combined_for_plot_2year.rename(columns={\"Cost_x\": \"Cost 2019\", \n",
    "                                                                \"Cost_y\": \"Cost 2021\",\n",
    "                                                                })\n",
    "combined_for_plot_2year.head()"
   ]
  },
  {
   "cell_type": "code",
   "execution_count": null,
   "metadata": {},
   "outputs": [],
   "source": [
    "combined_for_plot_2year.plot.bar(figsize = (18, 5), color=[\"black\", \"red\"], width = 0.6)\n",
    "plt.title(\"2019/2021 State Cost Comparison 2 year public education\", fontweight=\"bold\")\n",
    "plt.ylabel(\"Cost ($)\", fontweight=\"bold\")\n",
    "plt.xlabel(\"State\", fontweight=\"bold\")\n",
    "plt.savefig(os.path.join(\"output\", \"two_comparison_2019_2021.png\"))\n",
    "plt.show()"
   ]
  },
  {
   "attachments": {},
   "cell_type": "markdown",
   "metadata": {},
   "source": [
    "_\n",
    "### Plots to compare 2021 plot data to eachother to see differences in education cost per state\n",
    "_"
   ]
  },
  {
   "cell_type": "code",
   "execution_count": null,
   "metadata": {},
   "outputs": [],
   "source": [
    "combined_for_plot = pd.merge(school_fouryear_public_2021, school_twoyear, on=\"State\")\n",
    "combined_for_plot = combined_for_plot.rename(columns={\"Cost_x\": \"4 Year Cost\", \"Cost_y\": \"2 Year Cost\"})"
   ]
  },
  {
   "cell_type": "code",
   "execution_count": null,
   "metadata": {},
   "outputs": [],
   "source": [
    "combined_for_plot.plot.bar(figsize = (18, 5), color=[\"blue\", \"red\"], width = 0.6)\n",
    "plt.title(\"2021 State Cost Comparison of a 2 and 4 Year Public Education\", fontweight=\"bold\")\n",
    "plt.ylabel(\"Cost ($)\", fontweight=\"bold\")\n",
    "plt.xlabel(\"State\", fontweight=\"bold\")\n",
    "plt.savefig(os.path.join(\"output\", \"two_four_comparison.png\"))\n",
    "plt.show()"
   ]
  },
  {
   "cell_type": "code",
   "execution_count": null,
   "metadata": {},
   "outputs": [],
   "source": [
    "school_private_2021.plot.bar(figsize = (18, 5), color = \"orange\")\n",
    "plt.legend(labels=[\"Private Cost\"])\n",
    "plt.title(\"2021 Average Fees/Tuition Cost of a Private Education\", fontweight = \"bold\")\n",
    "plt.ylabel(\"Cost ($)\", fontweight=\"bold\")\n",
    "plt.xlabel(\"State\", fontweight=\"bold\")\n",
    "plt.savefig(os.path.join(\"output\", \"private.png\"))\n",
    "plt.show()"
   ]
  },
  {
   "cell_type": "code",
   "execution_count": null,
   "metadata": {},
   "outputs": [],
   "source": [
    "df_combined = pd.concat([school_private_2021, school_fouryear_public_2021], axis=1)\n",
    "df_combined = df_combined.dropna()\n",
    "df_combined.plot.bar(figsize = (18, 5), color = [\"orange\", \"blue\"])\n",
    "plt.legend(labels=[\"Private Cost\", \"Public Cost\"])\n",
    "plt.title(\"2021 State Cost Comparison of a Private and Public Education\", fontweight = \"bold\")\n",
    "plt.xlabel(\"State\", fontweight=\"bold\")\n",
    "plt.ylabel(\"Cost ($)\", fontweight=\"bold\")\n",
    "plt.savefig(os.path.join(\"output\", \"private_public_comparison.png\"))\n",
    "plt.show()"
   ]
  },
  {
   "attachments": {},
   "cell_type": "markdown",
   "metadata": {},
   "source": [
    "### Add Heatmaps showing a nice visual for where most expensive states are"
   ]
  },
  {
   "cell_type": "code",
   "execution_count": null,
   "metadata": {},
   "outputs": [],
   "source": [
    "fig = px.choropleth(school_fouryear_public_2021,\n",
    "                    locations = \"State Code\",\n",
    "                    locationmode = \"USA-states\",\n",
    "                    scope = \"usa\",\n",
    "                    color = \"Cost\",\n",
    "                    color_continuous_scale = \"PuBu\",\n",
    "                    template = \"seaborn\",\n",
    "                    title = \"2021 Map of Fees/Tuition per state (Public 4-Year)\",\n",
    "                    width = 800,\n",
    "                    height = 600,\n",
    "                    labels = {\"Cost\": \"Cost ($)\"}\n",
    "    )\n",
    "fig.show()"
   ]
  },
  {
   "cell_type": "code",
   "execution_count": null,
   "metadata": {},
   "outputs": [],
   "source": [
    "fig = px.choropleth(school_private_2021,\n",
    "                    locations = \"State Code\",\n",
    "                    locationmode = \"USA-states\",\n",
    "                    scope = \"usa\",\n",
    "                    color = \"Cost\",\n",
    "                    color_continuous_scale=\"PuBu\",\n",
    "                    template = \"seaborn\",\n",
    "                    title = \"2021 Map of Fees/Tuition per state (Private 4-Year)\",\n",
    "                    width = 800,\n",
    "                    height = 600,\n",
    "                    labels = {\"Cost\": \"Cost ($)\"}\n",
    "    )\n",
    "fig.show()"
   ]
  },
  {
   "cell_type": "code",
   "execution_count": null,
   "metadata": {},
   "outputs": [],
   "source": [
    "### NA suggest tov work on visualization of > the average cost of undergraduate / type\n",
    "\n",
    "type_avg_cost = school_df.groupby('Type').mean(numeric_only=True)\n"
   ]
  },
  {
   "cell_type": "code",
   "execution_count": null,
   "metadata": {},
   "outputs": [],
   "source": [
    "### NA Create the pie plot\n",
    "# Plot the pie chart\n",
    "explode = (0.05, .0, .0)\n",
    "plt.pie(type_avg_cost['Cost'], labels=type_avg_cost.index,\n",
    "        autopct='%1.1f%%', shadow=True, startangle=90, explode=explode)\n",
    "plt.axis('equal')\n",
    "plt.title('Undergraduate average cost per type', fontsize=14)\n",
    "plt.show()\n"
   ]
  },
  {
   "cell_type": "code",
   "execution_count": null,
   "metadata": {},
   "outputs": [],
   "source": [
    "avg_year_cost = school_df.groupby('Year').mean(numeric_only=True)\n",
    "plt.figure(figsize=(8, 5))\n",
    "plt.plot(avg_year_cost.index, avg_year_cost['Cost'], marker=\"s\", color=\"blue\")\n",
    "plt.legend(['State'], loc='upper left', fontsize=10)\n",
    "plt.xlabel('State', fontweight=\"bold\")\n",
    "plt.ylabel('Cost ($)', fontweight=\"bold\")\n",
    "plt.title('Average Cost by year', fontsize=14)\n",
    "plt.xticks(rotation=90)\n",
    "plt.grid()\n",
    "plt.show()\n",
    "# avg_year_cost\n"
   ]
  },
  {
   "cell_type": "code",
   "execution_count": null,
   "metadata": {},
   "outputs": [],
   "source": [
    "avg_year_cost = school_df.groupby('Year').sum(numeric_only=True)\n",
    "plt.figure(figsize=(8, 5))\n",
    "plt.plot(avg_year_cost.index, avg_year_cost['Cost'], marker=\"s\", color=\"blue\")\n",
    "plt.legend(['State'], loc='upper left', fontsize=10)\n",
    "plt.xlabel('State', fontweight=\"bold\")\n",
    "plt.ylabel('Cost ($)', fontweight=\"bold\")\n",
    "plt.title('Total Cost by year', fontsize=14)\n",
    "plt.xticks(rotation=90)\n",
    "plt.grid()\n",
    "plt.show()\n",
    "# avg_year_cost\n"
   ]
  },
  {
   "cell_type": "code",
   "execution_count": null,
   "metadata": {},
   "outputs": [],
   "source": [
    "group_year_cost = school_df.groupby([\"Year\"]).sum()\n",
    "colors = [\"blue\"]\n",
    "group_year_cost.plot(kind=\"bar\", figsize=(8, 5), color=colors,\n",
    "                     fontsize=9, edgecolor='blue',  align=\"center\")\n",
    "# plt.rcParams[\"figure.facecolor\"]\n",
    "# plt.label(\"Cost\")\n",
    "plt.legend(['Yearly Cost'], loc='upper left', fontsize=10)\n",
    "plt.xlabel(\"Year\", fontweight=\"bold\")\n",
    "plt.ylabel(\"Cost (in Millions)\", fontweight=\"bold\")\n",
    "plt.title(\"Total Cost by Year for All Schools\", fontsize=14)\n",
    "plt.tight_layout()\n",
    "plt.show()\n",
    "# print(group_year_cost)\n"
   ]
  },
  {
   "cell_type": "code",
   "execution_count": null,
   "metadata": {},
   "outputs": [],
   "source": [
    "# type_cost_year = school_df.groupby([\"State\",\"Year\",\"Type\"])\n",
    "type_private = school_df[(school_df[\"Type\"] == \"Private\")]\n",
    "private_group_year_cost = type_private.groupby([\"Year\"]).sum()\n",
    "colors = [\"blue\"]\n",
    "private_group_year_cost.plot(kind=\"bar\", figsize=(8, 5), color=colors,\n",
    "                             fontsize=9, edgecolor='blue',  align=\"center\")\n",
    "plt.rcParams[\"figure.facecolor\"]\n",
    "# plt.label(\"Cost\")\n",
    "plt.legend(['Yearly Cost'], loc='upper left', fontsize=10)\n",
    "plt.xlabel(\"Year\", fontweight=\"bold\")\n",
    "plt.ylabel(\"Cost (in Millions)\", fontweight=\"bold\")\n",
    "plt.title(\"Total Cost by Year - Private Schools\", fontsize=14)\n",
    "# plt.tight_layout()\n",
    "plt.show()\n",
    "# private_group_year_cost\n"
   ]
  },
  {
   "cell_type": "code",
   "execution_count": null,
   "metadata": {},
   "outputs": [],
   "source": [
    "type_in_state = school_df[(school_df[\"Type\"] == \"Public In-State\")]\n",
    "type_in_state_group = type_in_state.groupby([\"Year\"]).sum()\n",
    "colors = [\"blue\"]\n",
    "type_in_state_group.plot(kind=\"bar\", figsize=(8, 5), color=colors,\n",
    "                         fontsize=9, edgecolor='blue',  align=\"center\")\n",
    "plt.rcParams[\"figure.facecolor\"]\n",
    "# plt.label(\"Cost\")\n",
    "plt.legend(['Yearly Cost'], loc='upper left', fontsize=10)\n",
    "plt.xlabel(\"Year\", fontweight=\"bold\")\n",
    "plt.ylabel(\"Cost (in Millions)\", fontweight=\"bold\")\n",
    "plt.title(\"Total Cost by Year - In State\", fontsize=14)\n",
    "# plt.tight_layout()\n",
    "plt.show()\n",
    "# type_in_state_group\n"
   ]
  },
  {
   "cell_type": "code",
   "execution_count": null,
   "metadata": {},
   "outputs": [],
   "source": [
    "type_out_state = school_df[(school_df[\"Type\"] == \"Public Out-of-State\")]\n",
    "type_out_state_group = type_out_state.groupby([\"Year\"]).sum()\n",
    "colors = [\"blue\"]\n",
    "type_out_state_group.plot(kind=\"bar\", figsize=(8, 5), color=colors,\n",
    "                          fontsize=9, edgecolor='blue',  align=\"center\")\n",
    "# plt.rcParams[\"figure.facecolor\"]\n",
    "# plt.label(\"Cost\")\n",
    "plt.legend(['Yearly Cost'], loc='upper left', fontsize=10)\n",
    "plt.xlabel(\"Year\", fontweight=\"bold\")\n",
    "plt.ylabel(\"Cost (in Millions)\", fontweight=\"bold\")\n",
    "plt.title(\"Total Cost by Year - Out of State\", fontsize=14)\n",
    "# plt.tight_layout()\n",
    "plt.show()\n",
    "# type_out_state_group\n"
   ]
  },
  {
   "cell_type": "code",
   "execution_count": null,
   "metadata": {},
   "outputs": [],
   "source": [
    "school_df"
   ]
  },
  {
   "cell_type": "code",
   "execution_count": null,
   "metadata": {},
   "outputs": [],
   "source": [
    "group_year_cost = fees_tuition_data.groupby([\"Year\"]).sum()\n",
    "colors = [\"orange\",\"yellow\"]\n",
    "group_year_cost.plot(kind=\"bar\", figsize=(8, 5), color=colors,\n",
    "                     fontsize=9, edgecolor='orange',  align=\"center\")\n",
    "# plt.rcParams[\"figure.facecolor\"]\n",
    "# plt.label(\"Cost\")\n",
    "plt.legend(['Yearly Cost'], loc='upper left', fontsize=10)\n",
    "plt.xlabel(\"Year\", fontweight=\"bold\")\n",
    "plt.ylabel(\"Cost (in Millions)\", fontweight=\"bold\")\n",
    "plt.title(\"Total Tuition by Year for All Schools\", fontsize=14)\n",
    "plt.tight_layout()\n",
    "plt.show()\n",
    "# print(group_year_cost)\n"
   ]
  },
  {
   "cell_type": "code",
   "execution_count": null,
   "metadata": {},
   "outputs": [],
   "source": [
    "\n",
    "type_in_state = fees_tuition_data[(\n",
    "    fees_tuition_data[\"Type\"] == \"Public In-State\")]\n",
    "type_out_state_group = type_in_state.groupby([\"Year\"]).sum()\n",
    "colors = [\"orange\"]\n",
    "type_out_state_group.plot(kind=\"bar\", figsize=(8, 5), color=colors,\n",
    "                          fontsize=9, edgecolor='orange',  align=\"center\")\n",
    "# plt.rcParams[\"figure.facecolor\"]\n",
    "# plt.label(\"Cost\")\n",
    "plt.legend(['Yearly Cost'], loc='upper left', fontsize=10)\n",
    "plt.xlabel(\"Year\", fontweight=\"bold\")\n",
    "plt.ylabel(\"Cost (in Millions)\", fontweight=\"bold\")\n",
    "plt.title(\"Total Tuition by Year - In-State\", fontsize=14)\n",
    "# plt.tight_layout()\n",
    "plt.show()\n",
    "type_out_state_group\n"
   ]
  },
  {
   "cell_type": "code",
   "execution_count": null,
   "metadata": {},
   "outputs": [],
   "source": [
    "type_out_state = fees_tuition_data[(\n",
    "    fees_tuition_data[\"Type\"] == \"Public Out-of-State\")]\n",
    "type_out_state_group = type_out_state.groupby([\"Year\"]).sum()\n",
    "colors = [\"orange\"]\n",
    "type_out_state_group.plot(kind=\"bar\", figsize=(8, 5), color=colors,\n",
    "                          fontsize=9, edgecolor='orange',  align=\"center\")\n",
    "# plt.rcParams[\"figure.facecolor\"]\n",
    "# plt.label(\"Cost\")\n",
    "plt.legend(['Yearly Cost'], loc='upper left', fontsize=10)\n",
    "plt.xlabel(\"Year\", fontweight=\"bold\")\n",
    "plt.ylabel(\"Cost (in Millions)\", fontweight=\"bold\")\n",
    "plt.title(\"Total Tuition Cost by Year - Out of State\", fontsize=14)\n",
    "# plt.tight_layout()\n",
    "plt.show()\n",
    "type_out_state_group\n"
   ]
  },
  {
   "cell_type": "code",
   "execution_count": null,
   "metadata": {},
   "outputs": [],
   "source": [
    "# type_cost_year = school_df.groupby([\"State\",\"Year\",\"Type\"])\n",
    "type_private = fees_tuition_data[(fees_tuition_data[\"Type\"] == \"Private\")]\n",
    "private_group_year_cost = type_private.groupby([\"Year\"]).sum()\n",
    "\n",
    "colors = (\"orange\")\n",
    "private_group_year_cost.plot(kind=\"bar\", figsize=(8, 5), color=colors,\n",
    "                             fontsize=9, edgecolor='orange',  align=\"center\")\n",
    "plt.rcParams[\"figure.facecolor\"]\n",
    "# plt.label(\"Cost\")\n",
    "plt.legend(['Yearly Cost'], loc='upper left', fontsize=10)\n",
    "plt.xlabel(\"Year\", fontweight=\"bold\")\n",
    "plt.ylabel(\"Cost (in Millions)\", fontweight=\"bold\")\n",
    "plt.title(\"Total Cost by Year - Private Schools\", fontsize=14)\n",
    "# plt.tight_layout()\n",
    "plt.show()\n",
    "private_group_year_cost\n"
   ]
  },
  {
   "cell_type": "code",
   "execution_count": null,
   "metadata": {},
   "outputs": [],
   "source": [
    "\n",
    "plt.scatter(fees_tuition_data[\"State Code\"], fees_tuition_data[\"Cost\"], \n",
    "            marker=\"o\", facecolors=\"red\", edgecolors=\"black\")\n",
    "plt.xticks(rotation=\"vertical\")\n",
    "plt.title(\"Cost Grouping by State\",\n",
    "          fontweight=\"bold\")\n",
    "plt.ylabel(\"Cost ($)\", fontweight=\"bold\")\n",
    "plt.xlabel(\"State\", fontweight=\"bold\")\n",
    "# plt.figure(figsize=(20, 4))\n",
    "plt.show()\n",
    "\n"
   ]
  },
  {
   "cell_type": "code",
   "execution_count": null,
   "metadata": {},
   "outputs": [],
   "source": [
    "plt.hist(fees_tuition_data[\"Cost\"])\n",
    " \n",
    "plt.title(\"Number of Schools / Cost\",\n",
    "          fontweight=\"bold\")\n",
    "plt.ylabel(\"School Count\", fontweight=\"bold\")\n",
    "plt.xlabel(\"Cost\", fontweight=\"bold\")\n",
    "# plt.savefig(os.path.join(\"output\", \"four_comparison_2019_2021.png\"))\n",
    "plt.show()\n"
   ]
  }
 ],
 "metadata": {
  "kernelspec": {
   "display_name": "RUTDataViz2023",
   "language": "python",
   "name": "python3"
  },
  "language_info": {
   "codemirror_mode": {
    "name": "ipython",
    "version": 3
   },
   "file_extension": ".py",
   "mimetype": "text/x-python",
   "name": "python",
   "nbconvert_exporter": "python",
   "pygments_lexer": "ipython3",
   "version": "3.10.9"
  },
  "orig_nbformat": 4
 },
 "nbformat": 4,
 "nbformat_minor": 2
}
